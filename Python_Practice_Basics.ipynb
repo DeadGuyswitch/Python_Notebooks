{
  "nbformat": 4,
  "nbformat_minor": 0,
  "metadata": {
    "colab": {
      "name": "Python Practice.ipynb",
      "provenance": [],
      "collapsed_sections": [],
      "authorship_tag": "ABX9TyNoQoIAidrxJAkFdIkA3cfd",
      "include_colab_link": true
    },
    "kernelspec": {
      "name": "python3",
      "display_name": "Python 3"
    },
    "language_info": {
      "name": "python"
    }
  },
  "cells": [
    {
      "cell_type": "markdown",
      "metadata": {
        "id": "view-in-github",
        "colab_type": "text"
      },
      "source": [
        "<a href=\"https://colab.research.google.com/github/DeadGuyswitch/Python_Notebooks/blob/main/Python_Practice_Basics.ipynb\" target=\"_parent\"><img src=\"https://colab.research.google.com/assets/colab-badge.svg\" alt=\"Open In Colab\"/></a>"
      ]
    },
    {
      "cell_type": "markdown",
      "source": [
        "**Iterators**"
      ],
      "metadata": {
        "id": "u-BBOUMXvHTW"
      }
    },
    {
      "cell_type": "code",
      "execution_count": null,
      "metadata": {
        "id": "3p_ceuJdvFfp"
      },
      "outputs": [],
      "source": [
        "s = list(range(0,5))"
      ]
    },
    {
      "cell_type": "code",
      "source": [
        "t = iter(s)\n",
        "print(next(t))\n",
        "print(next(t))\n",
        "print()\n",
        "u = iter(s)\n",
        "print(next(u))\n",
        "print(next(u))"
      ],
      "metadata": {
        "colab": {
          "base_uri": "https://localhost:8080/"
        },
        "id": "YK7byk9ovM1n",
        "outputId": "ca5e37c5-c30d-45ca-f8ef-a5d659d3da2f"
      },
      "execution_count": null,
      "outputs": [
        {
          "output_type": "stream",
          "name": "stdout",
          "text": [
            "0\n",
            "1\n",
            "0\n",
            "1\n"
          ]
        }
      ]
    },
    {
      "cell_type": "markdown",
      "source": [
        "**Iterators in Dictionaries**"
      ],
      "metadata": {
        "id": "BYbsdZeVyFbW"
      }
    },
    {
      "cell_type": "code",
      "source": [
        "\n",
        "d = {'one': 1, 'two': 2, 'three': 3}\n",
        "\n",
        "d['zero'] = 0\n",
        "\n",
        "print(d)\n",
        "\n",
        "d_iter = iter(d.values())\n",
        "# d['five'] = 5 Doesn't work because the shape of dictionary changes mid value during iteration\n",
        "d['zero'] = 69 # Works because the shape of dictionary is not changed, only a value in the existing structure is updated\n",
        "print(d)\n",
        "print(next(d_iter))\n",
        "print(next(d_iter))\n",
        "print(next(d_iter))\n",
        "\n",
        "\n",
        "d_iter = iter(d.keys())\n",
        "print(next(d_iter))\n",
        "print(next(d_iter))\n",
        "print(next(d_iter))\n",
        "\n",
        "d_iter = iter(d.items())\n",
        "print(next(d_iter))\n",
        "print(next(d_iter))\n",
        "print(next(d_iter))\n"
      ],
      "metadata": {
        "colab": {
          "base_uri": "https://localhost:8080/"
        },
        "id": "SM7luODdvUm4",
        "outputId": "653aa79a-da3b-43d9-b792-77e5970f9248"
      },
      "execution_count": null,
      "outputs": [
        {
          "output_type": "stream",
          "name": "stdout",
          "text": [
            "{'one': 1, 'two': 2, 'three': 3, 'zero': 0}\n",
            "{'one': 1, 'two': 2, 'three': 3, 'zero': 69}\n",
            "1\n",
            "2\n",
            "3\n",
            "one\n",
            "two\n",
            "three\n",
            "('one', 1)\n",
            "('two', 2)\n",
            "('three', 3)\n"
          ]
        }
      ]
    },
    {
      "cell_type": "markdown",
      "source": [
        "**For Statements**"
      ],
      "metadata": {
        "id": "NYJXNweoz0TC"
      }
    },
    {
      "cell_type": "code",
      "source": [
        "r = range(3,6)\n",
        "list(r)\n",
        "\n",
        "for i in r:\n",
        "  print(i)\n"
      ],
      "metadata": {
        "colab": {
          "base_uri": "https://localhost:8080/"
        },
        "id": "dKEyXJlqz3En",
        "outputId": "0e4d6fd1-3ccd-4ddb-ca8b-cc7226d8e3ea"
      },
      "execution_count": null,
      "outputs": [
        {
          "output_type": "stream",
          "name": "stdout",
          "text": [
            "3\n",
            "4\n",
            "5\n"
          ]
        }
      ]
    },
    {
      "cell_type": "code",
      "source": [
        "ri = iter(r)\n",
        "\n",
        "print(\"Printing elements of list r\")\n",
        "for i in r:\n",
        "  print(i)\n",
        " \n",
        "next(ri)\n",
        "\n",
        "print(\"\\nPrinting elements of iter(r) after calling next() once\")\n",
        "for i in ri:\n",
        "  print(i)\n"
      ],
      "metadata": {
        "colab": {
          "base_uri": "https://localhost:8080/"
        },
        "id": "tPZA_wGp3Vd1",
        "outputId": "ce35c65a-fff1-4fe9-8962-d738bc63edfe"
      },
      "execution_count": null,
      "outputs": [
        {
          "output_type": "stream",
          "name": "stdout",
          "text": [
            "Printing elements of list r\n",
            "3\n",
            "4\n",
            "5\n",
            "\n",
            "Printing elements of iter(r) after calling next() once\n",
            "4\n",
            "5\n"
          ]
        }
      ]
    },
    {
      "cell_type": "markdown",
      "source": [
        "**Built-in Iterator Functions: 1) map() 2) filter() 3) zip() 4) reversed()**"
      ],
      "metadata": {
        "id": "Y1jIZ1ImyNCG"
      }
    },
    {
      "cell_type": "markdown",
      "source": [
        "**1) map()**"
      ],
      "metadata": {
        "id": "VAD6A95Z4Z2D"
      }
    },
    {
      "cell_type": "code",
      "source": [
        "bcd =['B', 'C', 'D', 'E', 'F']\n",
        "[x.upper() for x in bcd]"
      ],
      "metadata": {
        "id": "YOrqU7L4wykY"
      },
      "execution_count": null,
      "outputs": []
    },
    {
      "cell_type": "code",
      "source": [
        " m = map(lambda x: x.lower(), upper_bcd)\n",
        " print(next(m))\n",
        " print(next(m))\n",
        " print(next(m))"
      ],
      "metadata": {
        "colab": {
          "base_uri": "https://localhost:8080/"
        },
        "id": "uKDuMKhm4iLb",
        "outputId": "219691e6-d241-4ecf-8f79-a40397f2c6c9"
      },
      "execution_count": null,
      "outputs": [
        {
          "output_type": "stream",
          "name": "stdout",
          "text": [
            "b\n",
            "c\n",
            "d\n"
          ]
        }
      ]
    },
    {
      "cell_type": "markdown",
      "source": [
        "**2) map() and filter()**"
      ],
      "metadata": {
        "id": "_ip3OzJ35Pj9"
      }
    },
    {
      "cell_type": "code",
      "source": [
        "m = map(lambda x: x * 2, range(3,7)) #Create a list applying the function to the given data \n",
        "\n",
        "f = lambda y: y >= 10               # The filtering function\n",
        "\n",
        "t = filter(f,m)                     # Use the filtering function in the map iterator object to create a new iterator whose values satisfy the given constraint\n",
        "\n",
        "print(next(t))\n",
        "print(next(t))\n",
        "\n",
        "list(t)"
      ],
      "metadata": {
        "colab": {
          "base_uri": "https://localhost:8080/"
        },
        "id": "aWJg83QB4s8W",
        "outputId": "c0ea36d7-5658-4978-c383-b1247ccb2355"
      },
      "execution_count": null,
      "outputs": [
        {
          "output_type": "stream",
          "name": "stdout",
          "text": [
            "10\n",
            "12\n"
          ]
        },
        {
          "output_type": "execute_result",
          "data": {
            "text/plain": [
              "[]"
            ]
          },
          "metadata": {},
          "execution_count": 43
        }
      ]
    },
    {
      "cell_type": "code",
      "source": [
        " "
      ],
      "metadata": {
        "id": "MamZ8Kk-5akK"
      },
      "execution_count": null,
      "outputs": []
    }
  ]
}