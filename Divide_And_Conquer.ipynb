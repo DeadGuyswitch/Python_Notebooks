{
  "nbformat": 4,
  "nbformat_minor": 0,
  "metadata": {
    "colab": {
      "name": "Divide_And_Conquer.ipynb",
      "provenance": [],
      "collapsed_sections": [],
      "authorship_tag": "ABX9TyNmzRmsaS3uly6NifvFyJDo",
      "include_colab_link": true
    },
    "kernelspec": {
      "name": "python3",
      "display_name": "Python 3"
    },
    "language_info": {
      "name": "python"
    }
  },
  "cells": [
    {
      "cell_type": "markdown",
      "metadata": {
        "id": "view-in-github",
        "colab_type": "text"
      },
      "source": [
        "<a href=\"https://colab.research.google.com/github/DeadGuyswitch/Python_Notebooks/blob/main/Divide_And_Conquer.ipynb\" target=\"_parent\"><img src=\"https://colab.research.google.com/assets/colab-badge.svg\" alt=\"Open In Colab\"/></a>"
      ]
    },
    {
      "cell_type": "markdown",
      "source": [
        "**1.Binary Search**"
      ],
      "metadata": {
        "id": "gor5f_XIUadI"
      }
    },
    {
      "cell_type": "markdown",
      "source": [
        "**Iterative Method**"
      ],
      "metadata": {
        "id": "_d7c7xkuUdsM"
      }
    },
    {
      "cell_type": "code",
      "source": [
        "def binary_search_iter(arr,val):\n",
        "  \n",
        "  arr_len = len(arr)\n",
        "  arr.sort()\n",
        "  \n",
        "  l_index,h_index = 1,arr_len\n",
        "  \n",
        "  mid = 0\n",
        "  \n",
        "  while(l_index <= h_index):\n",
        "  \n",
        "    mid = (l_index + h_index)/2\n",
        "  \n",
        "    if val == arr[mid]:\n",
        "      print(\"Value found at index %d\" %mid)\n",
        "      return mid \n",
        "    \n",
        "    if val < arr[mid]:\n",
        "      h_index = mid - 1\n",
        "    \n",
        "    else:\n",
        "      l_index = mid + 1\n",
        "  \n",
        "  return 0\n",
        "\n",
        "arr = [3,6,8,12,14,17,25,29,31,36,42,47,53,55,62]\n",
        "binary_search_iter(arr,62)\n",
        "    "
      ],
      "metadata": {
        "id": "icvbU4NcUiJu"
      },
      "execution_count": null,
      "outputs": []
    },
    {
      "cell_type": "markdown",
      "source": [
        "**Recursive Method**"
      ],
      "metadata": {
        "id": "n_2BOp6dcacR"
      }
    },
    {
      "cell_type": "code",
      "execution_count": null,
      "metadata": {
        "id": "kEIkEgeKwFwr"
      },
      "outputs": [],
      "source": [
        "arr = [3,6,8,12,14,17,25,29,31,36,42,47,53,55,62]\n",
        "arr_len = len(arr)\n",
        "\n",
        "def binary_search_rec(l_index,h_index,val):\n",
        "    \n",
        "    if l_index == h_index:\n",
        "        if arr[l_index] == val:\n",
        "            print(\"Element found at index %d\" %l_index)\n",
        "            return l_index\n",
        "        else:\n",
        "            print(\"Element Not Found\")\n",
        "            return None\n",
        "    \n",
        "    else:\n",
        "        mid = (l_index + h_index) // 2\n",
        "        \n",
        "        if val == arr[mid]:\n",
        "            print(\"Element found at index %d\" %mid)\n",
        "            return mid\n",
        "        \n",
        "        if val < arr[mid]:\n",
        "            return binary_search_rec(l_index,mid-1,val)\n",
        "        \n",
        "        else:\n",
        "            return binary_search_rec(mid+1,h_index,val)\n",
        "    \n",
        "    \n",
        "\n",
        "binary_search_rec(0, arr_len, 3)\n",
        "        \n",
        "        \n",
        "    "
      ]
    },
    {
      "cell_type": "markdown",
      "source": [
        "**2.Merge Sort**"
      ],
      "metadata": {
        "id": "Q9zrgYeaNq0x"
      }
    },
    {
      "cell_type": "code",
      "source": [
        "def merge(arr1,arr2):\n",
        "    i,j = 0,0\n",
        "    result = []\n",
        "    while(i < len(arr1) and j < len(arr2)):\n",
        "        if arr1[i] < arr2[j]:\n",
        "            result.append(arr1[i])\n",
        "            i += 1 \n",
        "        else:\n",
        "            result.append(arr2[j])\n",
        "            j += 1 \n",
        "    \n",
        "    result += arr1[i:]\n",
        "    result += arr2[j:]\n",
        "    \n",
        "    return result \n",
        "\n",
        "arr1 = [2,8,15,18]\n",
        "arr2 = [5,9,12,17]\n",
        "\n",
        "merged_arr = merge(arr1,arr2)\n",
        "merged_arr\n",
        "            "
      ],
      "metadata": {
        "colab": {
          "base_uri": "https://localhost:8080/"
        },
        "id": "iKK52ubHN301",
        "outputId": "33309193-d39f-4603-e0d1-1179fd35de16"
      },
      "execution_count": null,
      "outputs": [
        {
          "output_type": "execute_result",
          "data": {
            "text/plain": [
              "[2, 5, 8, 9, 12, 15, 17, 18]"
            ]
          },
          "metadata": {},
          "execution_count": 15
        }
      ]
    },
    {
      "cell_type": "code",
      "source": [
        "def merge_sort(arr):\n",
        " \n",
        "  l_index = 0\n",
        "  h_index = len(arr) - 1\n",
        " \n",
        " if l_index < h_index:\n",
        "   mid = (l_index + h_index) // 2 \n",
        "   first_half = merge_sort(arr[l_index:mid])\n",
        "   second_half = merge_sort(arr[mid+1:h_index])\n",
        "   merge(first_half,second_half)\n",
        "\n",
        "return 0"
      ],
      "metadata": {
        "id": "r14FL1JvRdth"
      },
      "execution_count": null,
      "outputs": []
    },
    {
      "cell_type": "markdown",
      "source": [
        "**LeetCode Problems**"
      ],
      "metadata": {
        "id": "fg1fm8eqz6Wg"
      }
    },
    {
      "cell_type": "markdown",
      "source": [
        "**1. Median of Two Sorted Arrays**"
      ],
      "metadata": {
        "id": "jmq64IY_z93m"
      }
    },
    {
      "cell_type": "code",
      "source": [
        "class Solution:\n",
        "    def findMedianSortedArrays(self, nums1: List[int], nums2: List[int]) -> float:\n",
        "        i,j = 0,0\n",
        "        merged_arr = []\n",
        "        \n",
        "        while(i < len(nums1) and j < len(nums2)):\n",
        "            if nums1[i] < nums2[j]:\n",
        "                merged_arr.append(nums1[i])\n",
        "                i += 1 \n",
        "            else:\n",
        "                merged_arr.append(nums2[j])\n",
        "                j += 1 \n",
        "        merged_arr += nums1[i:]\n",
        "        merged_arr += nums2[j:]\n",
        "        \n",
        "        med_index = (len(merged_arr) + 1) // 2\n",
        "        \n",
        "        if len(merged_arr) % 2 == 0:\n",
        "            return (merged_arr[med_index - 1] + merged_arr[med_index]) /2\n",
        "        else:\n",
        "            return merged_arr[med_index-1]\n",
        "        \n",
        "        \n",
        "        \n",
        "                "
      ],
      "metadata": {
        "id": "3eq0AvpZSM-i",
        "colab": {
          "base_uri": "https://localhost:8080/"
        },
        "outputId": "17b3f0fa-5b99-4396-ad5e-b6eb259c7174"
      },
      "execution_count": null,
      "outputs": [
        {
          "output_type": "stream",
          "name": "stdout",
          "text": [
            "[2, 5, 8, 9, 12, 15, 17, 18]\n",
            "10.5\n"
          ]
        }
      ]
    },
    {
      "cell_type": "code",
      "source": [
        ""
      ],
      "metadata": {
        "id": "3-aNvLw-Rdyp"
      },
      "execution_count": null,
      "outputs": []
    }
  ]
}