{
  "nbformat": 4,
  "nbformat_minor": 0,
  "metadata": {
    "colab": {
      "name": "Sorting.ipynb",
      "provenance": [],
      "collapsed_sections": [],
      "authorship_tag": "ABX9TyPGE8G3sYHoCgqWzapCxaFZ",
      "include_colab_link": true
    },
    "kernelspec": {
      "name": "python3",
      "display_name": "Python 3"
    },
    "language_info": {
      "name": "python"
    }
  },
  "cells": [
    {
      "cell_type": "markdown",
      "metadata": {
        "id": "view-in-github",
        "colab_type": "text"
      },
      "source": [
        "<a href=\"https://colab.research.google.com/github/DeadGuyswitch/Python_Notebooks/blob/main/Sorting.ipynb\" target=\"_parent\"><img src=\"https://colab.research.google.com/assets/colab-badge.svg\" alt=\"Open In Colab\"/></a>"
      ]
    },
    {
      "cell_type": "markdown",
      "source": [
        "**Sorting Algorithms: Python**"
      ],
      "metadata": {
        "id": "Tyy_yG26OdQz"
      }
    },
    {
      "cell_type": "markdown",
      "source": [
        "**1. Selection Sort**"
      ],
      "metadata": {
        "id": "qZYU7XzxOicJ"
      }
    },
    {
      "cell_type": "code",
      "execution_count": null,
      "metadata": {
        "colab": {
          "base_uri": "https://localhost:8080/"
        },
        "id": "BTfdeRtmOa0T",
        "outputId": "924982e3-e0ed-4c26-ebb1-02495f8c1db8"
      },
      "outputs": [
        {
          "output_type": "execute_result",
          "data": {
            "text/plain": [
              "[11, 12, 22, 25, 34, 64, 90]"
            ]
          },
          "metadata": {},
          "execution_count": 3
        }
      ],
      "source": [
        "def selection_sort(arr):\n",
        "    n = len(arr)\n",
        "    \n",
        "    for i in range(0,n):\n",
        "        min = i\n",
        "        for j in range(i+1,n):\n",
        "            if arr[j] < arr[min]:\n",
        "                min = j\n",
        "        arr[min],arr[i] = arr[i], arr[min]\n",
        "    return arr \n",
        "\n",
        "uns_arr = [64, 34, 25, 12, 22, 11, 90]\n",
        "selection_sort(uns_arr)\n"
      ]
    },
    {
      "cell_type": "markdown",
      "source": [
        "**2. Bubble Sort**"
      ],
      "metadata": {
        "id": "018aPqJ5bpUJ"
      }
    },
    {
      "cell_type": "code",
      "source": [
        "def bubble_sort(arr):\n",
        "    n = len(arr)\n",
        "    \n",
        "    for i in range(0,n):\n",
        "        for j in range(0, n-1-1):\n",
        "            if arr[j] > arr[j+1]:\n",
        "                arr[j],arr[j+1] = arr[j+1],arr[j]\n",
        "    return arr\n",
        "\n",
        "uns_arr = [64, 34, 25, 12, 22, 11, 90]\n",
        "bubble_sort(uns_arr)\n"
      ],
      "metadata": {
        "colab": {
          "base_uri": "https://localhost:8080/"
        },
        "id": "OJZpiiKYOoWy",
        "outputId": "672b8ce0-450e-4cab-ca62-c8d92bb0f755"
      },
      "execution_count": null,
      "outputs": [
        {
          "output_type": "execute_result",
          "data": {
            "text/plain": [
              "[11, 12, 22, 25, 34, 64, 90]"
            ]
          },
          "metadata": {},
          "execution_count": 4
        }
      ]
    },
    {
      "cell_type": "markdown",
      "source": [
        "**3. Insertion Sort**"
      ],
      "metadata": {
        "id": "1c1xcvxCeOaf"
      }
    },
    {
      "cell_type": "code",
      "source": [
        "def insertion_sort(arr):\n",
        "    n = len(arr)\n",
        "    for i in range(1,n):\n",
        "        key = arr[i]\n",
        "        j = i - 1\n",
        "        while j >= 0 and key < arr[j]:\n",
        "            arr[j+1] = arr[j]\n",
        "            j -= 1\n",
        "        arr[j+1] = key \n",
        "    return arr\n",
        "\n",
        "uns_arr = [64, 34, 25, 12, 22, 11, 90]\n",
        "insertion_sort(uns_arr)"
      ],
      "metadata": {
        "id": "wbhpbfR-eLAL"
      },
      "execution_count": null,
      "outputs": []
    },
    {
      "cell_type": "markdown",
      "source": [
        "**4. Merge Sort**"
      ],
      "metadata": {
        "id": "Mvr04TcUq0Eb"
      }
    },
    {
      "cell_type": "code",
      "source": [
        "def merge_sort(arr):\n",
        "    \n",
        "    if len(arr) > 1:\n",
        "        \n",
        "        mid = len(arr) // 2\n",
        "        l_half = arr[:mid]\n",
        "        u_half = arr[mid:]\n",
        "        \n",
        "        merge_sort(l_half)\n",
        "        merge_sort(u_half)\n",
        "        \n",
        "        \n",
        "        i = j = k = 0 \n",
        "        \n",
        "        while i < len(l_half) and j < len(u_half):\n",
        "            \n",
        "            if l_half[i] < u_half[j]:\n",
        "                arr[k] = l_half[i]\n",
        "                i += 1\n",
        "            else:\n",
        "                arr[k] = u_half[j]\n",
        "                j += 1\n",
        "            k += 1 \n",
        "        \n",
        "        while (i < len(l_half)):\n",
        "            arr[k] = l_half[i]\n",
        "            i += 1\n",
        "            k += 1\n",
        "            \n",
        "        while (j < len(u_half)):\n",
        "            arr[k] = u_half[j]\n",
        "            j += 1\n",
        "            k += 1\n",
        "\n",
        "arr = [12, 11, 13, 5, 6, 7]\n",
        "merge_sort(arr)\n"
      ],
      "metadata": {
        "id": "BWcoRnfe4Lz-"
      },
      "execution_count": null,
      "outputs": []
    },
    {
      "cell_type": "code",
      "source": [
        ""
      ],
      "metadata": {
        "id": "ZADAtdXw4L-g"
      },
      "execution_count": null,
      "outputs": []
    },
    {
      "cell_type": "markdown",
      "source": [
        "**Sorting Applications**"
      ],
      "metadata": {
        "id": "j3wJKx2I4Mlp"
      }
    },
    {
      "cell_type": "markdown",
      "source": [
        "**1. Return unique elements of an array**"
      ],
      "metadata": {
        "id": "i8tmuFlw4QaV"
      }
    },
    {
      "cell_type": "code",
      "source": [
        "uns_arr = [64, 34, 25, 12, 22, 11, 90,11,12,25]\n",
        "\n",
        "unique_arr = []\n",
        "\n",
        "for x in uns_arr:\n",
        "  if x not in unique_arr:\n",
        "    unique_arr.append(x)\n",
        "  else:\n",
        "    continue\n",
        "\n",
        "print(unique_arr)"
      ],
      "metadata": {
        "id": "dWOp3RQg4PYy",
        "colab": {
          "base_uri": "https://localhost:8080/"
        },
        "outputId": "bf550c64-cf41-4c28-89bd-0a814fe7ffe1"
      },
      "execution_count": null,
      "outputs": [
        {
          "output_type": "stream",
          "name": "stdout",
          "text": [
            "[64, 34, 25, 12, 22, 11, 90]\n"
          ]
        }
      ]
    },
    {
      "cell_type": "code",
      "source": [
        ""
      ],
      "metadata": {
        "id": "Ol6mr6OP45BG"
      },
      "execution_count": null,
      "outputs": []
    }
  ]
}